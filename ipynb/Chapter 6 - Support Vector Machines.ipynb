{
 "metadata": {
  "name": "",
  "signature": "sha256:5cdff01cf9fa67520c1d4b8379f16932c41f8a4d327f4cc88ba238ebcca9827f"
 },
 "nbformat": 3,
 "nbformat_minor": 0,
 "worksheets": []
}