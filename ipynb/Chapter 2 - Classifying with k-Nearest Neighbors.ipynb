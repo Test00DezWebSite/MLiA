{
 "metadata": {
  "name": "",
  "signature": "sha256:572645f42aab0b91326e87d0018bf0e3096dd5674a3935a77935d67e6a188e12"
 },
 "nbformat": 3,
 "nbformat_minor": 0,
 "worksheets": [
  {
   "cells": [
    {
     "cell_type": "code",
     "collapsed": false,
     "input": [
      "import operator # Operator module used later for sorting\n",
      "import numpy as np\n",
      "import collections # for Counter, to perform the majority vote in kNN\n",
      "\n",
      "import matplotlib.pyplot as plt\n",
      "\n",
      "%matplotlib inline"
     ],
     "language": "python",
     "metadata": {},
     "outputs": [],
     "prompt_number": 89
    },
    {
     "cell_type": "markdown",
     "metadata": {},
     "source": [
      "Section 2.1 Classifying with distance measurements\n",
      "==================================================\n",
      "\n",
      "First example, from section 2.1.1"
     ]
    },
    {
     "cell_type": "markdown",
     "metadata": {},
     "source": [
      "2.1.1 Creating the data set\n",
      "---------------------------"
     ]
    },
    {
     "cell_type": "code",
     "collapsed": false,
     "input": [
      "def createDataSet():\n",
      "    \"\"\"\n",
      "    This convenience function creates the data set corresponding to Figure 2.2 of the Book\n",
      "    \"\"\"\n",
      "    group = np.array([[1.0,1.1],[1.0,1.0],[0,0],[0,0.1]])\n",
      "    labels = ['A','A','B','B']\n",
      "    return group, labels"
     ],
     "language": "python",
     "metadata": {},
     "outputs": [],
     "prompt_number": 11
    },
    {
     "cell_type": "code",
     "collapsed": false,
     "input": [
      "# Create data set\n",
      "group, labels = createDataSet()\n",
      "\n",
      "# Extract the different label categories\n",
      "label_types = np.unique(points_labels) \n",
      "# Define the legend for following plots\n",
      "label_colors = { 'A' : 'or', 'B' : 'ob'}\n",
      "\n",
      "# Reproduction of Figure 2.2\n",
      "plt.figure()\n",
      "plt.rc('figure',figsize=[5,3])\n",
      "\n",
      "plt.axis([-0.2,1.2,-0.2,1.2])\n",
      "\n",
      "# Plot each category with a different color\n",
      "for label_type in labels:\n",
      "    indices = np.where(np.array(labels) == label_type)\n",
      "    \n",
      "    plt.plot(group[indices,0], group[indices,1], label_colors[label_type])\n",
      "\n",
      "# annotate points\n",
      "for i, point in enumerate(group):\n",
      "    plt.annotate(labels[i], (point[0]+0.05, point[1]))"
     ],
     "language": "python",
     "metadata": {},
     "outputs": [
      {
       "metadata": {},
       "output_type": "display_data",
       "png": "[encoded data removed]",
       "text": [
        "<matplotlib.figure.Figure at 0x113d3f1d0>"
       ]
      }
     ],
     "prompt_number": 168
    },
    {
     "cell_type": "markdown",
     "metadata": {},
     "source": [
      "2.1.2 Applying kNN\n",
      "------------------"
     ]
    },
    {
     "cell_type": "code",
     "collapsed": false,
     "input": [
      "def classify0(inX, dataset, labels, k):\n",
      "    \"\"\"\n",
      "    inX : input vector containing one single point to classify\n",
      "    data_set : the training set\n",
      "    labels : vector of categories\n",
      "    k : the number of the nearest neighbours\n",
      "    \"\"\"\n",
      "    \n",
      "    dataset_size = dataset.shape[0]\n",
      "    \n",
      "    # Calculation of the raw differences to all the points of the dataset. \n",
      "    # First we will replicate the input vector with the same dimensions than \n",
      "    # the dataset matrix ...\n",
      "    differences  = np.tile( inX, (dataset_size, 1) ) \n",
      "    # ... and then use the operator '-' to compute the differences with all\n",
      "    # elements of the training dataset\n",
      "    differences -= dataset\n",
      "    # Compute the difference RMS relative to each data set point\n",
      "    diff_rms = np.sqrt( (differences**2).sum(axis=1) )\n",
      "    \n",
      "    # Get a sorted vector with the differences. We will obtain the sorted\n",
      "    # index rather than the sorted vector itself.\n",
      "    diff_rms_sorted_indices = diff_rms.argsort()\n",
      "    \n",
      "    # Get the labels corresponding to each distance (after sorting) ...\n",
      "    sorted_labels = np.array(labels)[diff_rms_sorted_indices]\n",
      "    # ... and select only the first k\n",
      "    sorted_labels = sorted_labels[:k]\n",
      "    \n",
      "    # On the resulting sorted_labels, perform the majority voting\n",
      "    # i.e. which is the catgory that appear most times in this sorted\n",
      "    # vector?\n",
      "    # We will use the class Counter, from collections (available as \n",
      "    # a built-in class in Python 2.7/3.1)\n",
      "    counted_labels = collections.Counter(sorted_labels)\n",
      "    \n",
      "    return counted_labels.most_common(1)[0][0]"
     ],
     "language": "python",
     "metadata": {},
     "outputs": [],
     "prompt_number": 130
    },
    {
     "cell_type": "markdown",
     "metadata": {},
     "source": [
      "Let's apply this first classifier to a random set of points and then plot the results.\n",
      "We will use the ``numpy.apply_along_axis`` ([numpy doc](http://docs.scipy.org/doc/numpy/reference/generated/numpy.apply_along_axis.html>)) for this purpose"
     ]
    },
    {
     "cell_type": "code",
     "collapsed": false,
     "input": [
      "# First create the data points to be classified as a random distribution\n",
      "n_points = 500\n",
      "points   = np.random.uniform(size=(n_points,2));\n",
      "\n",
      "classify0_args = (group, labels, 3)\n",
      "points_labels = np.apply_along_axis(classify0, 1, points, *classify0_args)\n",
      "#classify0([0,0], group, labels, 3)"
     ],
     "language": "python",
     "metadata": {},
     "outputs": [],
     "prompt_number": 170
    },
    {
     "cell_type": "code",
     "collapsed": false,
     "input": [
      "# Let's plot the results\n",
      "plt.figure()\n",
      "\n",
      "# For each label, plot them\n",
      "for label_type in label_types:\n",
      "    indices = np.where(points_labels == label_type)\n",
      "    \n",
      "    plt.plot(points[indices,0], points[indices,1], label_colors[label_type])"
     ],
     "language": "python",
     "metadata": {},
     "outputs": [
      {
       "metadata": {},
       "output_type": "display_data",
       "png": "[encoded data removed]",
       "text": [
        "<matplotlib.figure.Figure at 0x1140e92d0>"
       ]
      }
     ],
     "prompt_number": 171
    },
    {
     "cell_type": "markdown",
     "metadata": {},
     "source": [
      "Section 2.2: Example of data extracted from a dating site\n",
      "=========================================================\n",
      "\n",
      "Data obtained in the MLiA book [web-page](http://www.manning.com/pharrington/).\n",
      "\n",
      "Download the source code [here](http://www.manning-source.com/books/pharrington/MLiA_SourceCode.zip)\n",
      "\n",
      "You will have to unzip it and modify the paths to the file\n"
     ]
    },
    {
     "cell_type": "code",
     "collapsed": false,
     "input": [],
     "language": "python",
     "metadata": {},
     "outputs": []
    }
   ],
   "metadata": {}
  }
 ]
}