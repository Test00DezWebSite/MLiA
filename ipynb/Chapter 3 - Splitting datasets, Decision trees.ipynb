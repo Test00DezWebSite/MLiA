{
 "metadata": {
  "name": "",
  "signature": "sha256:8c07a8ce1379e4f687f228d00e0c25c95cd43d7d41c337047808691757fc70a1"
 },
 "nbformat": 3,
 "nbformat_minor": 0,
 "worksheets": [
  {
   "cells": [
    {
     "cell_type": "markdown",
     "metadata": {},
     "source": [
      "3.- Splitting datasets one feature at a time: Decision trees\n",
      "============================================================    \n"
     ]
    },
    {
     "cell_type": "code",
     "collapsed": false,
     "input": [],
     "language": "python",
     "metadata": {},
     "outputs": []
    }
   ],
   "metadata": {}
  }
 ]
}