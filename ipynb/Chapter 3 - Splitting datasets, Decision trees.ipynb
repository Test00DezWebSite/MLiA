{
 "metadata": {
  "name": "",
  "signature": "sha256:1e56ecf2e4bba510549cf0d84da0740edb8de7311d53ad52ac6bebb38107687c"
 },
 "nbformat": 3,
 "nbformat_minor": 0,
 "worksheets": [
  {
   "cells": [
    {
     "cell_type": "markdown",
     "metadata": {},
     "source": [
      "3.- Splitting datasets one feature at a time: Decision trees\n",
      "============================================================\n",
      "\n",
      "\n",
      "3.1.- Tree construction\n",
      "-----------------------\n",
      "\n",
      "\n"
     ]
    },
    {
     "cell_type": "markdown",
     "metadata": {},
     "source": [
      "###3.1.1.- Information gain (Entropy)###\n",
      "\n",
      "As defined in [Wikipedia](http://en.wikipedia.org/wiki/Entropy_(information_theory), Entropy is **a measure of uncertainty**. Entropy is larger as the source of information is also more random. The less random, the lower the Entropy.\n",
      "\n",
      "Assuming a dicrete random variable $X$ than has the following possible values: $$ {\u00a0x_1, x_2, ..., x_N }$$\n",
      "\n",
      "will have an Entropy ($H$):\n",
      "\n",
      "$$\n",
      "H = - \\sum_{i=1}^{N} p_i \\cdot \\log_2{p_i} \n",
      "$$\n",
      "\n",
      "where $p_i$ is the probability that the value $x_i$ of the random variable $X$ occurs."
     ]
    },
    {
     "cell_type": "code",
     "collapsed": false,
     "input": [
      "import math\n",
      "\n",
      "# Method to compute the entropy of a dataset\n",
      "def entropy(data_set):\n",
      "    \"\"\"\n",
      "    We are assuming that data_set is a collection of samples,\n",
      "    and each samples has some features and a label in the last field\n",
      "    \n",
      "    >>> entropy( [[1],[0]] )   # Fair coinflip, maximum uncertainty\n",
      "    1.0\n",
      "    \n",
      "    >>> entropy( [[0],[0]] )   # Loaded coinflip, previsible outcome\n",
      "    0.0\n",
      "    \"\"\"\n",
      "    \n",
      "    n_entries = len(data_set)\n",
      "    \n",
      "    # Let's count the labels so that we can then measure its \n",
      "    # probability within the data_set\n",
      "    label_counts = {}\n",
      "    \n",
      "    for sample in data_set:\n",
      "        \n",
      "        current_label = sample[-1]\n",
      "        if current_label not in label_counts:\n",
      "            label_counts[current_label] = 0\n",
      "            \n",
      "        label_counts[current_label] += 1\n",
      "        \n",
      "    # Compute the Entropy (H)\n",
      "    H = 0\n",
      "    \n",
      "    for key, count in label_counts.iteritems():\n",
      "        p = float(count) / n_entries\n",
      "        \n",
      "        H -= p * math.log(p, 2)\n",
      "    \n",
      "    return(H)"
     ],
     "language": "python",
     "metadata": {},
     "outputs": [],
     "prompt_number": 1
    },
    {
     "cell_type": "code",
     "collapsed": false,
     "input": [
      "def create_data_set():\n",
      "    data_set = [[1,1,'yes'],[1,1,'yes'], [1,0,'no'], [0,1,'no'], [0,1,'no'] ]\n",
      "    data_set_feature_labels = ['no surfacing', 'flippers']\n",
      "    \n",
      "    return (data_set, data_set_feature_labels)\n",
      "\n",
      "data_set, data_set_feature_labels = create_data_set()\n",
      "\n",
      "entropy(data_set)"
     ],
     "language": "python",
     "metadata": {},
     "outputs": [
      {
       "metadata": {},
       "output_type": "pyout",
       "prompt_number": 2,
       "text": [
        "0.9709505944546686"
       ]
      }
     ],
     "prompt_number": 2
    },
    {
     "cell_type": "code",
     "collapsed": false,
     "input": [
      "# Add a little bit of uncertainty in the data set\n",
      "data_set[0][-1] = 'maybe'\n",
      "entropy(data_set)"
     ],
     "language": "python",
     "metadata": {},
     "outputs": [
      {
       "metadata": {},
       "output_type": "pyout",
       "prompt_number": 3,
       "text": [
        "1.3709505944546687"
       ]
      }
     ],
     "prompt_number": 3
    },
    {
     "cell_type": "markdown",
     "metadata": {},
     "source": [
      "**Gini impurity** is the probability of choosing an item from the set and the probability of that item from being missclassified"
     ]
    },
    {
     "cell_type": "markdown",
     "metadata": {},
     "source": [
      "###3.1.2.- Splitting the data set###\n",
      "\n",
      "\n"
     ]
    },
    {
     "cell_type": "code",
     "collapsed": false,
     "input": [
      "def split(data_set, column, value):\n",
      "    \n",
      "    split_data_set = []\n",
      "    \n",
      "    for sample in data_set:\n",
      "        if sample[column] == value:\n",
      "            \n",
      "            reduced_sample = sample[:column]\n",
      "            reduced_sample.extend( sample[column+1:] )\n",
      "            \n",
      "            split_data_set.append(reduced_sample)\n",
      "            \n",
      "    return split_data_set"
     ],
     "language": "python",
     "metadata": {},
     "outputs": [],
     "prompt_number": 4
    },
    {
     "cell_type": "code",
     "collapsed": false,
     "input": [
      "# Have a look at the data set\n",
      "data_set"
     ],
     "language": "python",
     "metadata": {},
     "outputs": [
      {
       "metadata": {},
       "output_type": "pyout",
       "prompt_number": 5,
       "text": [
        "[[1, 1, 'maybe'], [1, 1, 'yes'], [1, 0, 'no'], [0, 1, 'no'], [0, 1, 'no']]"
       ]
      }
     ],
     "prompt_number": 5
    },
    {
     "cell_type": "code",
     "collapsed": false,
     "input": [
      "# Get all the features whose first column (0) takes the value of 1\n",
      "split(data_set, 0, 1)"
     ],
     "language": "python",
     "metadata": {},
     "outputs": [
      {
       "metadata": {},
       "output_type": "pyout",
       "prompt_number": 6,
       "text": [
        "[[1, 'maybe'], [1, 'yes'], [0, 'no']]"
       ]
      }
     ],
     "prompt_number": 6
    },
    {
     "cell_type": "code",
     "collapsed": false,
     "input": [
      "# Get all the features whose first column (0) takes the other possible\n",
      "# value (0)\n",
      "split(data_set, 0, 0)"
     ],
     "language": "python",
     "metadata": {},
     "outputs": [
      {
       "metadata": {},
       "output_type": "pyout",
       "prompt_number": 7,
       "text": [
        "[[1, 'no'], [1, 'no']]"
       ]
      }
     ],
     "prompt_number": 7
    },
    {
     "cell_type": "markdown",
     "metadata": {},
     "source": [
      "**Split based in Information Gain**\n",
      "\n",
      "The choice fo the best feature to split the data set is based on the information gain for the resulting split.\n",
      "\n",
      "Formally, the information gain is defined as\n",
      "\n",
      "> Information gain ($IG(S,A)$) due to a split of the data set \n",
      "> $S$ using feature $A$ is the reduction of entropy (disorder)\n",
      "> that results by splitting using feature $A$\n",
      "\n",
      "The expression is the following:\n",
      "\n",
      "$$\n",
      "IG(S,A) = H(S) - \\sum_{a \\, \\in \\, values(A)} \\frac{|S_a|}{|S|} \\cdot H(S_a)\n",
      "$$\n",
      "\n",
      "where $v$ denotes the value that the feature $A$ can take and $|X|$ denotes the number of elements in the set $X$. The intuition is that we to maximize the information gain when we split, meaning that we want to construct sets with the less amount of randomness possible (i.e. homogeneous split sets). In the event that the split by a feature gives random sets of elements, the part of the summatory will be close to the total entropy and therefore the information gain will be very low. In the event that there is some feature that clearly splits the data set in a group of distinct features (reducing the randomness), the second term of the information gain equation will tend to 0 (low disorder) and therefore the total information gain will be close to the total entropy, thus yielding a large information gain."
     ]
    },
    {
     "cell_type": "code",
     "collapsed": false,
     "input": [
      "from __future__ import division   # To avoid rounding of integer division\n",
      "\n",
      "def choose_best_split(data_set):\n",
      "    \n",
      "    # Making the split will imply that we are going to reduce \n",
      "    # the number of features for the following splits\n",
      "    n_features = len(data_set[0]) - 1 \n",
      "    \n",
      "    # Some initializations\n",
      "    base_entropy = entropy( data_set )\n",
      "    best_info_gain = 0.0\n",
      "    best_feature = None\n",
      "    \n",
      "    # Loop over all the number of features\n",
      "    for i in range(n_features):\n",
      "        \n",
      "        # Build a list of unique values that the feature can take\n",
      "        feature_values = set( [ sample[i] for sample in data_set ] )\n",
      "        \n",
      "        # Calculate the entropy due to this split\n",
      "        new_entropy = 0.0\n",
      "        for value in feature_values:\n",
      "            sub_data_set = split(data_set, i, value)\n",
      "            \n",
      "            p = len(sub_data_set) / len(data_set)\n",
      "            new_entropy += p * entropy(sub_data_set)\n",
      "            \n",
      "        info_gain = base_entropy - new_entropy\n",
      "            \n",
      "        if info_gain > best_info_gain:\n",
      "            best_info_gain = info_gain\n",
      "            best_feature = i\n",
      "            \n",
      "    return best_feature\n",
      "        "
     ],
     "language": "python",
     "metadata": {},
     "outputs": [],
     "prompt_number": 8
    },
    {
     "cell_type": "code",
     "collapsed": false,
     "input": [
      "data_set"
     ],
     "language": "python",
     "metadata": {},
     "outputs": [
      {
       "metadata": {},
       "output_type": "pyout",
       "prompt_number": 9,
       "text": [
        "[[1, 1, 'maybe'], [1, 1, 'yes'], [1, 0, 'no'], [0, 1, 'no'], [0, 1, 'no']]"
       ]
      }
     ],
     "prompt_number": 9
    },
    {
     "cell_type": "code",
     "collapsed": false,
     "input": [
      "choose_best_split(data_set)"
     ],
     "language": "python",
     "metadata": {},
     "outputs": [
      {
       "metadata": {},
       "output_type": "pyout",
       "prompt_number": 10,
       "text": [
        "0"
       ]
      }
     ],
     "prompt_number": 10
    },
    {
     "cell_type": "markdown",
     "metadata": {},
     "source": [
      "###3.1.3.- Recursively building the tree###\n",
      "\n",
      "\n",
      "This will use recursion to traverse the branches of the tree and recursively split the nodes in new branches.\n",
      "\n",
      "Recursion stops under the following conditions\n",
      "* Run out of attributes to split\n",
      "* All elements of the node are from the same class"
     ]
    },
    {
     "cell_type": "code",
     "collapsed": false,
     "input": [
      "# We create a method to decide which is the name we will assign the leaf\n",
      "# in the event that we ran out of attributes (i.e. the recursion stopped)\n",
      "# but there are elements of different classes. In this case we will \n",
      "# take a majority vote\n",
      "import operator\n",
      "\n",
      "def majority_count(class_list):\n",
      "    \n",
      "    class_count = {}\n",
      "    \n",
      "    for vote in class_list:\n",
      "        \n",
      "        if vote not in class_count: \n",
      "            class_count[vote] = 0\n",
      "        class_count[vote] += 1\n",
      "        \n",
      "        \n",
      "    sorted_class_count = sorted( class_count.iteritems(),\n",
      "                                 key=opeartor.itemgetter(1),\n",
      "                                 reverse = True )\n",
      "    \n",
      "    return sorted_class_count[0][0]\n",
      "\n",
      "\n",
      "def create_tree(data_set, data_set_feature_labels):\n",
      "    \n",
      "    # Build the list of classes available in the data set\n",
      "    class_list = [ sample[-1] for sample in data_set]\n",
      "\n",
      "    # First condition to end the recursion is that all the\n",
      "    # elements in this set have the same class \n",
      "    if class_list.count(class_list[0]) == len(class_list):\n",
      "        return class_list[0]\n",
      "    \n",
      "    # Second condition to end the recursion, we end the\n",
      "    # features to be used to split the data_set\n",
      "    if len(data_set[0]) == 1:\n",
      "        return majority_count(class_list)\n",
      "    \n",
      "    # If we hit this point, it means that we still have\n",
      "    # room to split the data_set and create new branches.\n",
      "    # Therefore we proceed to choose the following best feature\n",
      "    # to split the tree, the one that offers less disorder (less\n",
      "    # entropy, maximum information gain) in the new branches\n",
      "    best_feature = choose_best_split( data_set )\n",
      "    \n",
      "    best_feature_label = data_set_feature_labels[ best_feature ]\n",
      "    \n",
      "    tree = { best_feature_label : {} }\n",
      "    del( data_set_feature_labels[best_feature] )\n",
      "    \n",
      "    # Build a unique list of values so that we will create a node\n",
      "    # for each of these values (and re-launch the recursion for \n",
      "    # each of these values)\n",
      "    feature_values = set( [ sample[best_feature] for sample in data_set ] )\n",
      "    \n",
      "    for value in feature_values:\n",
      "        \n",
      "        sub_labels = data_set_feature_labels[:]\n",
      "        \n",
      "        split_data_set = split(data_set, best_feature, value)\n",
      "        tree[best_feature_label][value] = create_tree( split_data_set, sub_labels )\n",
      "        \n",
      "    return tree"
     ],
     "language": "python",
     "metadata": {},
     "outputs": [],
     "prompt_number": 11
    },
    {
     "cell_type": "code",
     "collapsed": false,
     "input": [
      "data_set, data_set_feature_labels = create_data_set()"
     ],
     "language": "python",
     "metadata": {},
     "outputs": [],
     "prompt_number": 12
    },
    {
     "cell_type": "code",
     "collapsed": false,
     "input": [
      "data_set"
     ],
     "language": "python",
     "metadata": {},
     "outputs": [
      {
       "metadata": {},
       "output_type": "pyout",
       "prompt_number": 13,
       "text": [
        "[[1, 1, 'yes'], [1, 1, 'yes'], [1, 0, 'no'], [0, 1, 'no'], [0, 1, 'no']]"
       ]
      }
     ],
     "prompt_number": 13
    },
    {
     "cell_type": "code",
     "collapsed": false,
     "input": [
      "data_set_feature_labels"
     ],
     "language": "python",
     "metadata": {},
     "outputs": [
      {
       "metadata": {},
       "output_type": "pyout",
       "prompt_number": 14,
       "text": [
        "['no surfacing', 'flippers']"
       ]
      }
     ],
     "prompt_number": 14
    },
    {
     "cell_type": "code",
     "collapsed": false,
     "input": [
      "t = create_tree(data_set, data_set_feature_labels)"
     ],
     "language": "python",
     "metadata": {},
     "outputs": [],
     "prompt_number": 15
    },
    {
     "cell_type": "code",
     "collapsed": false,
     "input": [
      "t"
     ],
     "language": "python",
     "metadata": {},
     "outputs": [
      {
       "metadata": {},
       "output_type": "pyout",
       "prompt_number": 16,
       "text": [
        "{'no surfacing': {0: 'no', 1: {'flippers': {0: 'no', 1: 'yes'}}}}"
       ]
      }
     ],
     "prompt_number": 16
    },
    {
     "cell_type": "markdown",
     "metadata": {},
     "source": [
      "3.2.- Plotting trees with matplotlib\n",
      "------------------------------------\n",
      "\n",
      "Instead of building a module to visualize graphs with [matplotlib](http://matplotlib.org/), [networkx](https://networkx.github.io/) will be used instead\n",
      "\n",
      "Note: Requires **``graphviz``** as well as the **``pygraphviz``** libraries (see [here](http://stackoverflow.com/questions/11479624/is-there-a-way-to-guarantee-hierarchical-output-from-networkx) )"
     ]
    },
    {
     "cell_type": "code",
     "collapsed": false,
     "input": [
      "import matplotlib as plt\n",
      "import networkx as nx\n",
      "\n",
      "%matplotlib inline\n",
      "\n",
      "def tree_to_graph(tree, graph = None, parent_node=None, verbose=False):\n",
      "    \"\"\"\n",
      "    Using a tree, this methor traverses the tree and builds a graph that can be later plot\n",
      "    with matplotlib.\n",
      "    \n",
      "    This method requires the networkx to be installed in the system\n",
      "    \"\"\"\n",
      "    \n",
      "    if verbose: \n",
      "        print(\"Processing tree: %s\\n\"%tree)\n",
      "\n",
      "    # Create the graph object if not provided. This is used\n",
      "    # so that the recursios are increasing the nodes\n",
      "    if graph is None: \n",
      "        graph = nx.DiGraph()\n",
      "        \n",
      "    \n",
      "    \n",
      "    for node_label, node in tree.iteritems():\n",
      "        \n",
      "        if verbose:\n",
      "            print(\"Node label: %s\"%node_label)\n",
      "            print(\"Node: %s\\n\"%node)\n",
      "        \n",
      "        # First add the node with a label\n",
      "        node_number = graph.number_of_nodes() + 1\n",
      "        graph.add_node(node_number, t=\"feature\", label=node_label)\n",
      "        \n",
      "        if verbose:\n",
      "            print(\"Number of nodes in graph: %d\"%graph.number_of_nodes())\n",
      "        \n",
      "        if parent_node is not None:\n",
      "            graph.add_edge(parent_node, node_number)\n",
      "\n",
      "        # Check if the lower level \"nodes\" are indeed nodes or leaves\n",
      "        for subnode_label, subnode in node.iteritems():\n",
      "            \n",
      "            if verbose:\n",
      "                print(\"Sub-node label: %s\"%subnode_label)\n",
      "                print(\"sub-node: %s\"%subnode)\n",
      "            \n",
      "            if type(subnode) is dict: \n",
      "                # Is a node, we need to recurse\n",
      "                if verbose: \n",
      "                    print(\"Recursion for subnode\")\n",
      "                tree_to_graph(subnode, graph=graph, \n",
      "                              parent_node=node_number, verbose=verbose)\n",
      "            else:\n",
      "                # Is a leaf, just add a directional node towards this leaf\n",
      "                subnode_number = graph.number_of_nodes() + 1\n",
      "                graph.add_node(subnode_number, t=\"leaf\", label=subnode_label)\n",
      "                graph.add_edge(node_number, subnode_number)\n",
      "                \n",
      "    return graph"
     ],
     "language": "python",
     "metadata": {},
     "outputs": [],
     "prompt_number": 102
    },
    {
     "cell_type": "code",
     "collapsed": false,
     "input": [
      "t.items()"
     ],
     "language": "python",
     "metadata": {},
     "outputs": [
      {
       "metadata": {},
       "output_type": "pyout",
       "prompt_number": 103,
       "text": [
        "[('no surfacing', {0: 'no', 1: {'flippers': {0: 'no', 1: 'yes'}}})]"
       ]
      }
     ],
     "prompt_number": 103
    },
    {
     "cell_type": "code",
     "collapsed": false,
     "input": [
      "def plot_tree(G, leaf_labels):\n",
      "    \n",
      "    # For a hierarchical, top-down graph, we need to use graphviz to compute the positions\n",
      "    pos=nx.graphviz_layout(G,prog='dot')\n",
      "\n",
      "    # Check the nodes that are features and the nodes that are leafs. They are going\n",
      "    # to have different shapes\n",
      "    feature_nodelist = []\n",
      "    leaf_nodelist = []\n",
      "\n",
      "    labels = {}\n",
      "\n",
      "    for node in G:\n",
      "    \n",
      "        if G.node[node]['t'] == 'feature':\n",
      "            feature_nodelist.append( node )\n",
      "            labels[node] = G.node[node]['label']\n",
      "        \n",
      "        elif G.node[node]['t'] == 'leaf':\n",
      "            leaf_nodelist.append( node )\n",
      "            labels[node] = leaf_labels[ G.node[node]['label'] ]\n",
      "        else:\n",
      "            raise ValueError(\"Unrecognised node type %s\\n\"%G.node[node]['t'])\n",
      "        \n",
      "    # Plot the feature nodes first\n",
      "    nx.draw_networkx_nodes(G, pos, nodelist=feature_nodelist, node_color='b', node_shape='d')\n",
      "    nx.draw_networkx_nodes(G, pos, nodelist=leaf_nodelist, node_color='r')\n",
      "    nx.draw_networkx_edges(G, pos)\n",
      "\n",
      "    nx.draw_networkx_labels(G, pos, labels, font_size=14);"
     ],
     "language": "python",
     "metadata": {},
     "outputs": [],
     "prompt_number": 104
    },
    {
     "cell_type": "code",
     "collapsed": false,
     "input": [
      "G = tree_to_graph(t)\n",
      "leaf_labels = { 0:'No', 1:'Yes' }\n",
      "plot_tree(G, leaf_labels)"
     ],
     "language": "python",
     "metadata": {},
     "outputs": [
      {
       "metadata": {},
       "output_type": "display_data",
       "png": "[encoded data removed]",
       "text": [
        "<matplotlib.figure.Figure at 0x10b270490>"
       ]
      }
     ],
     "prompt_number": 105
    },
    {
     "cell_type": "markdown",
     "metadata": {},
     "source": [
      "3.3.- Testing and storing the classifier\n",
      "----------------------------------------\n",
      "\n",
      "So far, the tasks covered in the chapter are focused on **building** the tree, this section shows how to use the tree to **predict** the class of a test sample\n",
      "\n",
      "The tree can be store using a Python ``pickle`` (we retrieve the tree as is)"
     ]
    },
    {
     "cell_type": "code",
     "collapsed": false,
     "input": [
      "def classify(tree, feature_labels, test_sample):\n",
      "    \"\"\"\n",
      "    \"\"\"\n",
      "    \n",
      "    # Fetch the name of the top-level feature and then the tree\n",
      "    # below this feature\n",
      "    first_str = tree.keys()[0]\n",
      "    sub_tree = tree[ first_str ]\n",
      "    \n",
      "    # Get the index that corresponds to the feature we are testing\n",
      "    # now\n",
      "    feature_index = feature_labels.index(first_str)\n",
      "    \n",
      "    # Loop for each node in this subtree and check for equivalence\n",
      "    #\u00a0with the test value. If the tree below the feature is another\n",
      "    # tree, traverse it, otherwise, we found a leaf and must\n",
      "    #\u00a0return its value.\n",
      "    for key in sub_tree:    \n",
      "        if test_sample[feature_index] == key:\n",
      "            if type( sub_tree[key] ).__name__ == 'dict':\n",
      "                \n",
      "                class_label = classify(sub_tree[key], feature_labels, test_sample)\n",
      "            else: class_label = sub_tree[key]\n",
      "                \n",
      "    return class_label"
     ],
     "language": "python",
     "metadata": {},
     "outputs": [],
     "prompt_number": 20
    },
    {
     "cell_type": "code",
     "collapsed": false,
     "input": [
      "t"
     ],
     "language": "python",
     "metadata": {},
     "outputs": [
      {
       "metadata": {},
       "output_type": "pyout",
       "prompt_number": 21,
       "text": [
        "{'no surfacing': {0: 'no', 1: {'flippers': {0: 'no', 1: 'yes'}}}}"
       ]
      }
     ],
     "prompt_number": 21
    },
    {
     "cell_type": "code",
     "collapsed": false,
     "input": [
      "data_set, data_set_feature_labels = create_data_set()\n",
      "\n"
     ],
     "language": "python",
     "metadata": {},
     "outputs": [],
     "prompt_number": 22
    },
    {
     "cell_type": "code",
     "collapsed": false,
     "input": [
      "data_set_feature_labels"
     ],
     "language": "python",
     "metadata": {},
     "outputs": [
      {
       "metadata": {},
       "output_type": "pyout",
       "prompt_number": 23,
       "text": [
        "['no surfacing', 'flippers']"
       ]
      }
     ],
     "prompt_number": 23
    },
    {
     "cell_type": "code",
     "collapsed": false,
     "input": [
      "# Test case 1: no surfacing=1 and flippers=0 => 'no'\n",
      "classify(t, data_set_feature_labels, [1,0])"
     ],
     "language": "python",
     "metadata": {},
     "outputs": [
      {
       "metadata": {},
       "output_type": "pyout",
       "prompt_number": 24,
       "text": [
        "'no'"
       ]
      }
     ],
     "prompt_number": 24
    },
    {
     "cell_type": "code",
     "collapsed": false,
     "input": [
      "# Test case 1: no surfacing=1 and flippers=1 => 'yes'\n",
      "classify(t, data_set_feature_labels, [1,1])"
     ],
     "language": "python",
     "metadata": {},
     "outputs": [
      {
       "metadata": {},
       "output_type": "pyout",
       "prompt_number": 25,
       "text": [
        "'yes'"
       ]
      }
     ],
     "prompt_number": 25
    },
    {
     "cell_type": "markdown",
     "metadata": {},
     "source": [
      "3.4.- Example: contact lens data set\n",
      "------------------------------------\n",
      "\n",
      "Data set can be found here\n",
      "https://archive.ics.uci.edu/ml/machine-learning-databases/lenses/\n",
      "\n",
      "We need to fetch the file ``lenses.data`` from this site"
     ]
    },
    {
     "cell_type": "code",
     "collapsed": false,
     "input": [
      "!curl https://archive.ics.uci.edu/ml/machine-learning-databases/lenses/lenses.data > lenses.txt"
     ],
     "language": "python",
     "metadata": {},
     "outputs": [
      {
       "output_type": "stream",
       "stream": "stdout",
       "text": [
        "  % Total    % Received % Xferd  Average Speed   Time    Time     Time  Current\r\n",
        "                                 Dload  Upload   Total   Spent    Left  Speed\r\n",
        "\r",
        "  0     0    0     0    0     0      0      0 --:--:-- --:--:-- --:--:--     0"
       ]
      },
      {
       "output_type": "stream",
       "stream": "stdout",
       "text": [
        "\r",
        "100   408  100   408    0     0   1161      0 --:--:-- --:--:-- --:--:--  1837\r\n"
       ]
      }
     ],
     "prompt_number": 27
    },
    {
     "cell_type": "code",
     "collapsed": false,
     "input": [
      "# The feature for the lenses data set has been extracted from \n",
      "# https://archive.ics.uci.edu/ml/machine-learning-databases/lenses/lenses.names\n",
      "# (check section 7 of this text file)\n",
      "# The values that each feature can take are also described in this file\n",
      "feature_labels = ['age', 'prescript', 'astigmatic', 'tear_rate']\n",
      "\n",
      "with open('lenses.txt','r') as fr:\n",
      "    lenses = [ sample_line.strip().split()[1:] for sample_line in fr]\n",
      "    \n",
      "tree = create_tree(lenses, feature_labels)"
     ],
     "language": "python",
     "metadata": {},
     "outputs": [],
     "prompt_number": 106
    },
    {
     "cell_type": "code",
     "collapsed": false,
     "input": [
      "tree"
     ],
     "language": "python",
     "metadata": {},
     "outputs": [
      {
       "metadata": {},
       "output_type": "pyout",
       "prompt_number": 107,
       "text": [
        "{'tear_rate': {'1': '3',\n",
        "  '2': {'astigmatic': {'1': {'age': {'1': '2',\n",
        "      '2': '2',\n",
        "      '3': {'prescript': {'1': '3', '2': '2'}}}},\n",
        "    '2': {'prescript': {'1': '1',\n",
        "      '2': {'age': {'1': '1', '2': '3', '3': '3'}}}}}}}}"
       ]
      }
     ],
     "prompt_number": 107
    },
    {
     "cell_type": "code",
     "collapsed": false,
     "input": [
      "G = tree_to_graph(tree)"
     ],
     "language": "python",
     "metadata": {},
     "outputs": [],
     "prompt_number": 111
    },
    {
     "cell_type": "code",
     "collapsed": false,
     "input": [
      "plot_tree(G, {'1' : 'hard', '2':'soft', '3':'no lens'})"
     ],
     "language": "python",
     "metadata": {},
     "outputs": [
      {
       "metadata": {},
       "output_type": "display_data",
       "png": "[encoded data removed]",
       "text": [
        "<matplotlib.figure.Figure at 0x10b553750>"
       ]
      }
     ],
     "prompt_number": 112
    },
    {
     "cell_type": "code",
     "collapsed": false,
     "input": [],
     "language": "python",
     "metadata": {},
     "outputs": []
    }
   ],
   "metadata": {}
  }
 ]
}