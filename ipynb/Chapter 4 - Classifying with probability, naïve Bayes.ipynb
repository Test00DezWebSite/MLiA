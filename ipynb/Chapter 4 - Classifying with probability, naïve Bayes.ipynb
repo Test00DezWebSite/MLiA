{
 "metadata": {
  "name": "",
  "signature": "sha256:a9eeec270c4df5633d71af5897de8e111ea2446b4a411a5cbafcd3e1554c684e"
 },
 "nbformat": 3,
 "nbformat_minor": 0,
 "worksheets": [
  {
   "cells": [
    {
     "cell_type": "markdown",
     "metadata": {},
     "source": [
      "4.- Classifying with probability theory: na\u00efve Bayes\n",
      "====================================================\n",
      "\n",
      "In summary, we want to know the best guess of a class for a given sample and, in addition, a probability estimate to that best guess.\n",
      "\n",
      "4.1.- Classifying with Bayesian decision theory\n",
      "-----------------------------------------------\n",
      "\n",
      "4.2.- Conditional probability\n",
      "-----------------------------\n",
      "\n",
      "\n",
      "Bayes rule used to compute probabilities\n",
      "\n",
      "$$\n",
      "p(A|B) = \\frac{p(B|A) \\cdot p(A)}{p(B)}\n",
      "$$\n",
      "\n",
      "4.3- Classifying with conditional probabilities\n",
      "-----------------------------------------------\n",
      "\n",
      "\n",
      "4.4.- Document classification with Bayes\n",
      "----------------------------------------\n",
      "\n",
      "Words are used as features in a document, which we intend to classify\n",
      "\n",
      "4.5.- Classifying text with Python\n",
      "----------------------------------\n",
      "\n"
     ]
    },
    {
     "cell_type": "code",
     "collapsed": false,
     "input": [],
     "language": "python",
     "metadata": {},
     "outputs": []
    }
   ],
   "metadata": {}
  }
 ]
}