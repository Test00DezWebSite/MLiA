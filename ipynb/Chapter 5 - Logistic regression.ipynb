{
 "metadata": {
  "name": "",
  "signature": "sha256:35f6611dfff9d8e8c86bfadf14bc1c6958514db9c04ca3aa173c8e4ca479d773"
 },
 "nbformat": 3,
 "nbformat_minor": 0,
 "worksheets": [
  {
   "cells": [
    {
     "cell_type": "markdown",
     "metadata": {},
     "source": [
      "5.- Logistic regression\n",
      "=======================\n",
      "\n",
      "5.1.- Sigmoid function\n",
      "----------------------\n",
      "\n",
      "The sigmoid function ($\\sigma (x)$) is defined as:\n",
      "\n",
      "$$\n",
      "\\sigma(x) = \\frac{1}{1+e^{-x}}\n",
      "$$"
     ]
    },
    {
     "cell_type": "code",
     "collapsed": false,
     "input": [
      "import numpy as np\n",
      "import matplotlib.pyplot as plt\n",
      "import seaborn\n",
      "\n",
      "%matplotlib inline"
     ],
     "language": "python",
     "metadata": {},
     "outputs": [],
     "prompt_number": 17
    },
    {
     "cell_type": "code",
     "collapsed": false,
     "input": [
      "def sigmoid(x):\n",
      "    \n",
      "    return 1.0 / (1.0 + np.exp(-1.0 * x))"
     ],
     "language": "python",
     "metadata": {},
     "outputs": [],
     "prompt_number": 18
    },
    {
     "cell_type": "code",
     "collapsed": false,
     "input": [
      "x = np.linspace(-5, 5, 41)\n",
      "y = sigmoid(x)"
     ],
     "language": "python",
     "metadata": {},
     "outputs": [],
     "prompt_number": 19
    },
    {
     "cell_type": "code",
     "collapsed": false,
     "input": [
      "plt.figure(figsize=(10,6))\n",
      "plt.plot(x,y);\n",
      "plt.axis([-5, 5, 0, 1]);"
     ],
     "language": "python",
     "metadata": {},
     "outputs": [
      {
       "metadata": {},
       "output_type": "display_data",
       "png": "[encoded data removed]",
       "text": [
        "<matplotlib.figure.Figure at 0x107b518d0>"
       ]
      }
     ],
     "prompt_number": 20
    },
    {
     "cell_type": "code",
     "collapsed": false,
     "input": [
      "sigmoid(0)"
     ],
     "language": "python",
     "metadata": {},
     "outputs": [
      {
       "metadata": {},
       "output_type": "pyout",
       "prompt_number": 21,
       "text": [
        "0.5"
       ]
      }
     ],
     "prompt_number": 21
    },
    {
     "cell_type": "code",
     "collapsed": false,
     "input": [
      "sigmoid(-np.inf)"
     ],
     "language": "python",
     "metadata": {},
     "outputs": [
      {
       "metadata": {},
       "output_type": "pyout",
       "prompt_number": 22,
       "text": [
        "0.0"
       ]
      }
     ],
     "prompt_number": 22
    },
    {
     "cell_type": "code",
     "collapsed": false,
     "input": [
      "sigmoid(+np.inf)"
     ],
     "language": "python",
     "metadata": {},
     "outputs": [
      {
       "metadata": {},
       "output_type": "pyout",
       "prompt_number": 23,
       "text": [
        "1.0"
       ]
      }
     ],
     "prompt_number": 23
    },
    {
     "cell_type": "markdown",
     "metadata": {},
     "source": [
      "\n",
      "Note that \n",
      "\n",
      "$$\n",
      "z = \\sum_{i=0}^N w_i \\cdot x_i = {\\bf w}^T \\cdot {\\bf x}\n",
      "$$\n",
      "\n",
      "Therefore, assuming only two variables, to simplify:\n",
      "\n",
      "$$\n",
      "\\sigma(x,y) = \\frac{1}{1+e^{-w_x \\cdot x}\\cdot e^{-w_y \\cdot y} }\n",
      "$$\n",
      "\n",
      "The gradient ascent is\n",
      "\n",
      "$$\n",
      "\n",
      "$$"
     ]
    },
    {
     "cell_type": "markdown",
     "metadata": {},
     "source": [
      "5.2.- Using optimization to find the best regression coefficients\n",
      "-----------------------------------------------------------------\n",
      "\n",
      "###5.2.0.- Maximum Likelihood###\n",
      "\n",
      "We start with the assumption that the classification is not going to be perfect, therefore, there will be an error $\\varepsilon$ in the classification. For the sample $(i)$, this will be expressed as:\n",
      "\n",
      "$$\n",
      "{\\bf y}^{(i)} = \\sigma_{\\bf w}({\\bf x}^{(i)}) + \\varepsilon^{(i)}\n",
      "$$\n",
      "\n",
      "where:\n",
      "\n",
      "$$\n",
      "\\sigma_{\\bf w}({\\bf x}^{(i)}) = \\frac{1}{1+e^{-{\\bf w}^T \\cdot {\\bf x^{(i)}}}}\n",
      "$$\n",
      "\n",
      "If we assume that the classification error $\\varepsilon$ is a random variable with **Gaussian distribution** with zero mean and variance $\\sigma^2$ ($\\mathcal{N}(0,\\sigma^2)$), we can express the probability of having a particular value for this error ($p(\\varepsilon^{(i)})$) as:\n",
      "\n",
      "$$\n",
      "p(\\varepsilon^{(i)}) = \\frac{1}{\\sqrt{2\\pi}\\sigma}\\cdot \\exp \\left ( {-\\frac{(\\varepsilon^{(i)})^2}{2\\sigma^2}} \\right )\n",
      "$$\n",
      "\n",
      "Therefore, we can substitute in this expression the definition of the $\\varepsilon$ and obtain $p(y^{(i)} | {\\bf x}^{(i)}; {\\bf w})$: the conditional probability of obtaining $y^{(i)}$ given a specific set of weights (${\\bf w}$) and input vector (${\\bf x}^{(i)}$):\n",
      "\n",
      "$$\n",
      "p(y^{(i)} | {\\bf x}^{(i)}; {\\bf w}) = \\frac{1}{\\sqrt{2\\pi}\\sigma}\\cdot \\exp \\left ( {-\\frac{(y^{(i)} - \\sigma_{\\bf w}({\\bf x}^{(i)}))^2}{2\\sigma^2}} \\right )\n",
      "$$\n",
      "\n",
      "Considering that we are now working with the training set, we want to find {\\bf w} so that best fits the data. In terms of the expression above, we have to find {\\bf w} that maximizes the probability given the inputs. This is the fundamental principle of **maximum likelihood**: to choose {\\bf w} that makes the data as high probable as possible given a set of inputs. The likelihood function can be expressed as:\n",
      "\n",
      "$$\n",
      "L({\\bf w}) = L({\\bf w};X,Y) = p(Y | X; {\\bf w}) \n",
      "$$\n",
      "\n",
      "we have aggregated all the $m$ $y^{(i)}$ samples into $Y$ and all the $m$ inputs $x^{(i)}$ in $X$. Because of the fact that we work with multiple samples, we now have to assume that the error is **independent**. This allows us to express the conditional probability of all samples as the product of the conditional probability of each sample, like so:\n",
      "\n",
      "$$\n",
      "\\begin{align}\n",
      "L({\\bf w}) & = \\prod_{i=1}^m p(y^{(i)} | {\\bf x}^{(i)}; {\\bf w})  \\\\\n",
      "           & = \\prod_{i=1}^m \\frac{1}{\\sqrt{2\\pi}\\sigma}\\cdot \\exp \\left ( {-\\frac{(y^{(i)} - \\sigma_{\\bf w}({\\bf x}^{(i)}))^2}{2\\sigma^2}} \\right )\n",
      "\\end{align}\n",
      "$$\n",
      "\n",
      "The **Maximum Likelihood Estimator** (MLE) is defined as the operator that estimates the ${\\bf w}$ that maximizes $L({\\bf w})$:\n",
      "\n",
      "$$\n",
      "\\hat {\\bf w} = \\arg\\max_{{\\bf w}} L({\\bf w}) \n",
      "$$\n",
      "\n",
      "From the previous expression of **likelihood** $L({\\bf w})$, we can try to modify it in an effort to simplify it in order to obtain a simpler cost function. Because $L({\\bf w})$ contains products and the exponential function, we can try to use the **logarithm** (at least to convert the products into sums). Note that we can do this because the logarithm is a monotonically increasing function. We can then obtain the **log likelihood**:\n",
      "\n",
      "$$\n",
      "l({\\bf w}) = \\log {L({\\bf w})}\n",
      "$$\n",
      "\n",
      "\n",
      "###5.2.1.- Gradient ascent###\n",
      "\n",
      "In order to maximize the MLE, one type of optimization algorithm is the gradient descent, in which we iterate the candidates following a specific search direction: the direction of the greatest increase, defined by the **gradient**:\n",
      "\n",
      "$$\n",
      "\\nabla f(x,y) = \\left (  \\frac{\\partial f(x,y) }{\\partial x} \\, , \\,  \\frac{\\partial f(x,y) }{\\partial y} \\right )\n",
      "$$\n",
      "\n",
      "Candidates are found based on the current candidate plus the gradient, multiplied by a **step** factor ($\\alpha$):\n",
      "\n",
      "$$\n",
      "{\\bf w } = {\\bf w } + \\alpha \\cdot  \\nabla_{\\bf w}f(w)\n",
      "$$\n",
      "\n",
      "where f is our **cost function**, or the difference between the predicted value and the actual value\n",
      "\n",
      "###5.2.2.- Training: use gradient ascent to find the best parameters###\n",
      "\n",
      "We have to find first a cost function for the expression of likelihood found before. To do this we will first construct the expression of our conditional probability for a single set of samples. Given the fact that we are using the sigmoid function to predict the class, we can assume that the probability of the sigmoid function to yield $1$ for a given input and weights can be expressed as the sigmoid function directly, like so:\n",
      "\n",
      "$$\n",
      "p(y=1\\, |\\, {\\bf x }; {\\bf w }) = \\sigma_{\\bf w}({\\bf x}) \n",
      "$$\n",
      "\n",
      "On the other hand, the probability of having the opposite classification state ($y=0$) for a given input and set of weights can be expressed as the complementary:\n",
      "\n",
      "\n",
      "$$\n",
      "p(y=0\\, |\\, {\\bf x }; {\\bf w }) = 1 - \\sigma_{\\bf w}({\\bf x}) \n",
      "$$\n",
      "\n",
      "Since $y$ represent a binary state and can only take two values ($0$ and $1$), we can join the previous expressions and obtain a general expression for the probability of having $y$ given a set of inputs and weights:\n",
      "\n",
      "$$\n",
      "p(y\\, |\\, {\\bf x }; {\\bf w }) = \\left( \\sigma_{\\bf w}({\\bf x}) \\right )^y \\cdot \\left ( 1 - \\sigma_{\\bf w}({\\bf x})\\right ) ^{1-y}\n",
      "$$\n",
      "\n",
      "Note that when $y=1$ we have the first term and when $y=0$ we will have the second term. We use this expression to obtain the log likelihood:\n",
      "\n",
      "$$\n",
      "l({\\bf w }) = \\log L({\\bf w })= \\log p(Y\\, |\\, X; {\\bf w }).\n",
      "$$\n",
      "\n",
      "After some algebraic manipulation (see page 18 of [\\[Ng 2014\\]](http://cs229.stanford.edu/notes/cs229-notes1.pdf) for details) , we can obtain this expression for the log likelihood:\n",
      "\n",
      "$$\n",
      "l({\\bf w}) = \\sum_{i=1}^m  y^{(i)}        \\log { \\sigma_{\\bf w}({\\bf x}^{(i)})}  +\n",
      "                          ( 1 - y^{(i)} ) \\log \\left ( 1 - \\sigma_{\\bf w}({\\bf x}^{(i)}) \\right)\n",
      "$$\n",
      "\n",
      "If we compute the gradient of this expression relative to each component of ${\\bf w}$ and use the following property for the sigmoid function:\n",
      "\n",
      "$$\n",
      "\\frac{d}{dz}\\sigma(z) = \\sigma(z) \\cdot ( 1 - \\sigma(z) )\n",
      "$$\n",
      "\n",
      "We can obtain the expression of the gradient ascent for each component of the weights:\n",
      "\n",
      "$$\n",
      "w_j = w_j + \\alpha \\cdot \\left( y^{(i)} - \\sigma_{\\bf w}({\\bf x}^{(i)}) \\right ) \\cdot x_j^{(i)}\n",
      "$$\n",
      "\n",
      "References:\n",
      "\n",
      "- [Ng 2014] Ng, Andrew. \"CS229 Machine Learning Lecture notes\", Stanford University, available: http://cs229.stanford.edu/notes/cs229-notes1.pdf\n"
     ]
    },
    {
     "cell_type": "code",
     "collapsed": false,
     "input": [
      "def load_data_set(filename=\"/Users/miquel/Downloads/machinelearninginaction/Ch05/testSet.txt\"):\n",
      "    \n",
      "    data_matrix = []\n",
      "    label_matrix = []\n",
      "    \n",
      "    fh = open(filename, \"r\")\n",
      "    for line in fh.readlines():\n",
      "        fields = [ float(f) for f in line.strip().split()]\n",
      "        data_matrix.append( [1.0, fields[0], fields[1] ] )\n",
      "        label_matrix.append( fields [2])\n",
      "        \n",
      "    return np.array(data_matrix), np.array(label_matrix)"
     ],
     "language": "python",
     "metadata": {},
     "outputs": [],
     "prompt_number": 24
    },
    {
     "cell_type": "code",
     "collapsed": false,
     "input": [
      "m, l = load_data_set()"
     ],
     "language": "python",
     "metadata": {},
     "outputs": [],
     "prompt_number": 25
    },
    {
     "cell_type": "code",
     "collapsed": false,
     "input": [
      "data_class1 = m[ l==1 ][:,1:]\n",
      "data_class0 = m[ l==0 ][:,1:]"
     ],
     "language": "python",
     "metadata": {},
     "outputs": [],
     "prompt_number": 26
    },
    {
     "cell_type": "code",
     "collapsed": false,
     "input": [
      "# Plot the data set\n",
      "plt.figure(figsize=(10,6))\n",
      "plt.plot(data_class1[:,0], data_class1[:,1], 'sr', label=\"class 1\");\n",
      "plt.plot(data_class0[:,0], data_class0[:,1], 'ob', label=\"class 0\");\n",
      "plt.axis([-4,+4,-5,20]);\n",
      "plt.legend(loc=2);"
     ],
     "language": "python",
     "metadata": {},
     "outputs": [
      {
       "metadata": {},
       "output_type": "display_data",
       "png": "[encoded data removed]",
       "text": [
        "<matplotlib.figure.Figure at 0x1081176d0>"
       ]
      }
     ],
     "prompt_number": 50
    },
    {
     "cell_type": "code",
     "collapsed": false,
     "input": [
      "def gradient_ascent(data, labels, alpha=0.001, max_cycles=500):\n",
      "    \n",
      "    # Get the shape, m is the number of rows and n is the number of columns\n",
      "    m,n = np.shape(data)\n",
      "    \n",
      "    # The algorithm assumes all the weights are the same\n",
      "    weights = np.ones((n, 1))\n",
      "    \n",
      "    for k in range(max_cycles):\n",
      "        h = sigmoid(np.dot(data, weights).flatten())\n",
      "        error = np.reshape(labels - h, (len(h), 1))\n",
      "        \n",
      "        # Update the weights based on the expression derived at the end of section 5.2.2\n",
      "        weights += alpha * np.dot(np.transpose(data), error)\n",
      "\n",
      "    return weights"
     ],
     "language": "python",
     "metadata": {},
     "outputs": [],
     "prompt_number": 28
    },
    {
     "cell_type": "code",
     "collapsed": false,
     "input": [
      "weights = gradient_ascent(m, l)"
     ],
     "language": "python",
     "metadata": {},
     "outputs": [],
     "prompt_number": 35
    },
    {
     "cell_type": "code",
     "collapsed": false,
     "input": [
      "weights"
     ],
     "language": "python",
     "metadata": {},
     "outputs": [
      {
       "metadata": {},
       "output_type": "pyout",
       "prompt_number": 39,
       "text": [
        "array([[ 4.12414349],\n",
        "       [ 0.48007329],\n",
        "       [-0.6168482 ]])"
       ]
      }
     ],
     "prompt_number": 39
    },
    {
     "cell_type": "markdown",
     "metadata": {},
     "source": [
      "###5.2.3.- Plot decision boundary###"
     ]
    },
    {
     "cell_type": "code",
     "collapsed": false,
     "input": [
      "def plot_decision_boundary(weights, x= np.arange(-3.0, 4.0, 1.0), ax=None):\n",
      "    \n",
      "    # Construct the line\n",
      "    y = (- weights[0] - weights[1] * x) / weights[2]\n",
      "    \n",
      "    if ax is None:\n",
      "        fix, ax = plt.subplots(nrows=1, ncols=1, figsize=(10,6))\n",
      "    ax.plot(x,y, '-k')\n",
      "    ax.set_xlabel(\"X1\")\n",
      "    ax.set_ylabel(\"Y1\")\n",
      "    \n",
      "    return\n",
      "\n",
      "def plot_best_fit(weights):\n",
      "    \"\"\"\n",
      "    :param weights: a NumPy array containing the weights to be plot\n",
      "    \"\"\"\n",
      "    \n",
      "    # Load data set    \n",
      "    data_mat, labels = load_data_set()\n",
      "    \n",
      "    n = np.shape(data_mat)[0]\n",
      "    \n",
      "    # Coordinates for the class 1\n",
      "    x1 = []\n",
      "    y1 = []\n",
      "    # Coordinates for the class 0\n",
      "    x0 = []\n",
      "    y0 = []\n",
      "    for i in range(n):\n",
      "        if int(labels[i]) == 1:\n",
      "            x1.append(data_mat[i,1])\n",
      "            y1.append(data_mat[i,2])\n",
      "        else:\n",
      "            x0.append(data_mat[i,1])\n",
      "            y0.append(data_mat[i,2])\n",
      "\n",
      "    fig, ax = plt.subplots(nrows=1, ncols=1, figsize=(10,6))\n",
      "    \n",
      "    # Plot the data points\n",
      "    ax.scatter(x0, y0, s=30, c='blue', marker= 'o')\n",
      "    ax.scatter(x1, y1, s=30, c='red', marker= 's')\n",
      "    \n",
      "    plot_decision_boundary(weights, ax=ax)\n",
      "    \n",
      "    fig.show()"
     ],
     "language": "python",
     "metadata": {},
     "outputs": [],
     "prompt_number": 62
    },
    {
     "cell_type": "code",
     "collapsed": false,
     "input": [
      "plot_best_fit(weights)"
     ],
     "language": "python",
     "metadata": {},
     "outputs": [
      {
       "metadata": {},
       "output_type": "display_data",
       "png": "[encoded data removed]",
       "text": [
        "<matplotlib.figure.Figure at 0x107cd9d50>"
       ]
      }
     ],
     "prompt_number": 63
    },
    {
     "cell_type": "markdown",
     "metadata": {},
     "source": [
      "###5.2.4.- Stochastic gradient ascent (train)###\n",
      "\n",
      "The previous approach to estimate the weights (where all data points are considered at once in a *batch*) is called **batch gradient ascent**. This approach is not feasible when the number of measurements increase substantially (i.e. note the size of the matrices that have to be handled when the number of points increase). An alternative way in which the weights are estimated **increasingly** with every new measurement is called **stochastic gradient ascent**. This incremental update is the main characteristic of the **online** learning systems."
     ]
    },
    {
     "cell_type": "code",
     "collapsed": false,
     "input": [
      "def stoch_grad_ascent_0(data, labels, alpha = 0.01):\n",
      "    \"\"\"\n",
      "    :param data: a NumPy array of m (measurements) x n (variables)\n",
      "    :paran labels: a NumPy array of m containing the classes for each measurement\n",
      "    :return weights: a NumPy array of n weights that best fit the data\n",
      "    \"\"\"\n",
      "    \n",
      "    m,n = np.shape(data)\n",
      "    \n",
      "    # Initial guess of the weights\n",
      "    weights = np.ones(n)\n",
      "    \n",
      "    for i in range(m):\n",
      "        h = sigmoid( np.sum(np.dot( data[i], weights  ) ) )\n",
      "        \n",
      "        error = ( int(labels[i]) - h )\n",
      "        \n",
      "        weights += alpha * error * data[i]\n",
      "        \n",
      "    return weights"
     ],
     "language": "python",
     "metadata": {},
     "outputs": [],
     "prompt_number": 80
    },
    {
     "cell_type": "code",
     "collapsed": false,
     "input": [
      "data_matrix, labels = load_data_set()\n",
      "weights = stoch_grad_ascent_0(data_matrix, labels)\n",
      "plot_best_fit(weights)"
     ],
     "language": "python",
     "metadata": {},
     "outputs": [
      {
       "metadata": {},
       "output_type": "display_data",
       "png": "[encoded data removed]",
       "text": [
        "<matplotlib.figure.Figure at 0x108037dd0>"
       ]
      }
     ],
     "prompt_number": 86
    },
    {
     "cell_type": "code",
     "collapsed": false,
     "input": [
      "import random\n",
      "\n",
      "def stoch_grad_ascent_1(data, labels, alpha = 0.01, n_iterations=150):\n",
      "    \"\"\"\n",
      "    :param data: a NumPy array of m (measurements) x n (variables)\n",
      "    :paran labels: a NumPy array of m containing the classes for each measurement\n",
      "    :return weights: a NumPy array of n weights that best fit the data\n",
      "    \"\"\"\n",
      "    \n",
      "    m,n = np.shape(data)\n",
      "    \n",
      "    # Initial guess of the weights\n",
      "    weights = np.ones(n)\n",
      "    \n",
      "    # In each iteration we go over the data over and over again, repeating\n",
      "    # points in a random fashion\n",
      "    for iteration in range(n_iterations):\n",
      "        \n",
      "        # We will be removing samples as we process them\n",
      "        data_indices = range(m)\n",
      "\n",
      "        for i in data_indices:\n",
      "            \n",
      "            # The innovation gain (alpha) decreases as the number of iteration increases\n",
      "            # The intuition behind this is that the update will be lower when the \n",
      "            # classifier converges (reaches a steady state). We allow more change\n",
      "            # at the start of the classifier (when it has not stabilized yet)\n",
      "            alpha_mod = alpha + 4.0 / (1.0 + iteration + i)\n",
      "            \n",
      "            # Pick a random sample within the data\n",
      "            rand_index = int( random.uniform(0, len(data_indices)) )\n",
      "            \n",
      "            h = sigmoid( np.sum(np.dot( data[rand_index], weights  ) ) )\n",
      "        \n",
      "            error = ( int(labels[rand_index]) - h )\n",
      "        \n",
      "            weights += alpha * error * data[rand_index]\n",
      "            \n",
      "            del(data_indices[rand_index])\n",
      "        \n",
      "    return weights"
     ],
     "language": "python",
     "metadata": {},
     "outputs": [],
     "prompt_number": 85
    },
    {
     "cell_type": "code",
     "collapsed": false,
     "input": [
      "data_matrix, labels = load_data_set()\n",
      "weights = stoch_grad_ascent_1(data_matrix, labels, n_iterations=100)\n",
      "plot_best_fit(weights)"
     ],
     "language": "python",
     "metadata": {},
     "outputs": [
      {
       "metadata": {},
       "output_type": "display_data",
       "png": "[encoded data removed]",
       "text": [
        "<matplotlib.figure.Figure at 0x1086e2490>"
       ]
      }
     ],
     "prompt_number": 89
    },
    {
     "cell_type": "markdown",
     "metadata": {},
     "source": [
      "5.3.- Example: estimating horse fatalities from colic\n",
      "-----------------------------------------------------\n",
      "\n",
      "\n",
      "Objective: predict survivability of colics in horses\n",
      "\n",
      "The description of the data can be found [here](http://archive.ics.uci.edu/ml/datasets/Horse+Colic)\n",
      "\n",
      "The bash command to fetch the data:\n",
      "\n",
      "    # Fetch data set\n",
      "    !wget http://archive.ics.uci.edu/ml/machine-learning-databases/horse-colic/horse-colic.data\n",
      "\n",
      "Alternatively, we can use the data provied in the book\n",
      "\n",
      "###5.3.1.- Deal with missing values in the data###\n",
      "\n",
      "Missing values are filled with 0 because in a stochastic gradient ascent the missing values will not affect the computation of the weight.\n",
      "\n",
      "###5.3.2.- Classifying with logistic regression###\n",
      "\n",
      "We are going to use the Python `pandas` module to load the table and build both the data matrix to be processed later."
     ]
    },
    {
     "cell_type": "code",
     "collapsed": false,
     "input": [
      "train_file=\"/Users/miquel/Downloads/machinelearninginaction/Ch05/horseColicTraining.txt\""
     ],
     "language": "python",
     "metadata": {},
     "outputs": [],
     "prompt_number": 92
    },
    {
     "cell_type": "code",
     "collapsed": false,
     "input": [
      "import pandas\n",
      "\n",
      "train_df = pandas.read_table(train_file, header=None)"
     ],
     "language": "python",
     "metadata": {},
     "outputs": [],
     "prompt_number": 120
    },
    {
     "cell_type": "code",
     "collapsed": false,
     "input": [
      "def classify_vector(x, weights):\n",
      "    \"\"\"\n",
      "    Classifies an input vector based on a set of weights, This method basically computes the dot product between x and weights\n",
      "    and returns 1 or 0 based on the result of the sigmoid function on this dot product.\n",
      "    \n",
      "    :param x: input vector to classify\n",
      "    :param weights: weights to be applied to the input vector\n",
      "    \n",
      "    :return: 1 if the sigmoid function is larger than 0.5 or 0 otherwise\n",
      "    \n",
      "    >>> x = [0.5,0.5,0]; weights = [1,-1,0]; classify_vector(x, weights)\n",
      "    0.0\n",
      "    \n",
      "    >>> x = [0.5,0.5,0]; weights = [0,-1,0]; classify_vector(x, weights)\n",
      "    0.0\n",
      "    \n",
      "    >>> x = [0.5,0.5,0]; weights = [0,1,0]; classify_vector(x, weights)\n",
      "    1.0\n",
      "    \"\"\"\n",
      "    \n",
      "    p = sigmoid(np.sum(np.dot(x, weights)))\n",
      "        \n",
      "    return 1.0 if p > 0.5 else 0.0\n",
      "    \n",
      "    \n",
      "def colic_test():\n",
      "    \n",
      "    train_file = \"/Users/miquel/Downloads/machinelearninginaction/Ch05/horseColicTraining.txt\"\n",
      "    test_file  = \"/Users/miquel/Downloads/machinelearninginaction/Ch05/horseColicTest.txt\"\n",
      "\n",
      "    # We will use pandas to load the data and convert it to a NumPy matrix\n",
      "    train_df = pandas.read_table(train_file, header=None)\n",
      "    \n",
      "    training_set = train_df.as_matrix(columns=[range(21)])\n",
      "    training_labels = train_df.as_matrix(columns=[21]).flatten()\n",
      "    \n",
      "    training_weights = stoch_grad_ascent_1(training_set, training_labels, n_iterations=500)\n",
      "    \n",
      "    test_df     = pandas.read_table(test_file, header=None)\n",
      "    test_set    = test_df.as_matrix(columns=[range(21)])\n",
      "    test_labels = test_df.as_matrix(columns=[21]).flatten()\n",
      "    \n",
      "    \n",
      "    n_test_vectors = test_df.shape[0]\n",
      "    \n",
      "    res = [ classify_vector(t, training_weights)  for  t in test_set ]\n",
      "    n_errors = len( np.where(res!=test_labels)[0] )\n",
      "\n",
      "    error_rate = float(n_errors)/float(n_test_vectors)\n",
      "    print(\"The error rate of this test is: %f\"%error_rate)\n",
      "    \n",
      "    return error_rate\n",
      "    \n",
      "def multi_test(n_tests=10):\n",
      "    \n",
      "    error_sum = 0\n",
      "    \n",
      "    for k in range(n_tests):\n",
      "        error_sum += colic_test()\n",
      "        \n",
      "    print(\"After %d iterations, the average error rate is: %f\"%(n_tests, error_sum/float(n_tests)))\n",
      "    "
     ],
     "language": "python",
     "metadata": {},
     "outputs": [],
     "prompt_number": 208
    },
    {
     "cell_type": "code",
     "collapsed": false,
     "input": [
      "colic_test()"
     ],
     "language": "python",
     "metadata": {},
     "outputs": [
      {
       "output_type": "stream",
       "stream": "stdout",
       "text": [
        "The error rate of this test is: 0.283582\n"
       ]
      },
      {
       "metadata": {},
       "output_type": "pyout",
       "prompt_number": 209,
       "text": [
        "0.2835820895522388"
       ]
      }
     ],
     "prompt_number": 209
    },
    {
     "cell_type": "code",
     "collapsed": false,
     "input": [
      "multi_test()"
     ],
     "language": "python",
     "metadata": {},
     "outputs": [
      {
       "output_type": "stream",
       "stream": "stdout",
       "text": [
        "The error rate of this test is: 0.268657\n",
        "The error rate of this test is: 0.432836"
       ]
      },
      {
       "output_type": "stream",
       "stream": "stdout",
       "text": [
        "\n",
        "The error rate of this test is: 0.358209"
       ]
      },
      {
       "output_type": "stream",
       "stream": "stdout",
       "text": [
        "\n",
        "The error rate of this test is: 0.492537"
       ]
      },
      {
       "output_type": "stream",
       "stream": "stdout",
       "text": [
        "\n",
        "The error rate of this test is: 0.402985"
       ]
      },
      {
       "output_type": "stream",
       "stream": "stdout",
       "text": [
        "\n",
        "The error rate of this test is: 0.238806"
       ]
      },
      {
       "output_type": "stream",
       "stream": "stdout",
       "text": [
        "\n",
        "The error rate of this test is: 0.328358"
       ]
      },
      {
       "output_type": "stream",
       "stream": "stdout",
       "text": [
        "\n",
        "The error rate of this test is: 0.283582"
       ]
      },
      {
       "output_type": "stream",
       "stream": "stdout",
       "text": [
        "\n",
        "The error rate of this test is: 0.253731"
       ]
      },
      {
       "output_type": "stream",
       "stream": "stdout",
       "text": [
        "\n",
        "The error rate of this test is: 0.343284"
       ]
      },
      {
       "output_type": "stream",
       "stream": "stdout",
       "text": [
        "\n",
        "After 10 iterations, the average error rate is: 0.340299\n"
       ]
      }
     ],
     "prompt_number": 211
    },
    {
     "cell_type": "code",
     "collapsed": false,
     "input": [],
     "language": "python",
     "metadata": {},
     "outputs": []
    }
   ],
   "metadata": {}
  }
 ]
}