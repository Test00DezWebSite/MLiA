{
 "metadata": {
  "name": "",
  "signature": "sha256:ff249c96fd490538104a0db44d2a2348b6b1ee371a26d5990108791f332851e0"
 },
 "nbformat": 3,
 "nbformat_minor": 0,
 "worksheets": [
  {
   "cells": [
    {
     "cell_type": "markdown",
     "metadata": {},
     "source": [
      "5.- Logistic regression\n",
      "=======================\n"
     ]
    }
   ],
   "metadata": {}
  }
 ]
}