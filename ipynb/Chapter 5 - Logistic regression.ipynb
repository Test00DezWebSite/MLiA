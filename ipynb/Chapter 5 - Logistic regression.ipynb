{
 "metadata": {
  "name": "",
  "signature": "sha256:02aeb6d9d0f815537cd4ee7c8e1992e7800c44ef9c7fc04793cf6d534da39a81"
 },
 "nbformat": 3,
 "nbformat_minor": 0,
 "worksheets": [
  {
   "cells": [
    {
     "cell_type": "markdown",
     "metadata": {},
     "source": [
      "5.- Logistic regression\n",
      "=======================\n",
      "\n",
      "5.1.- Sigmoid function\n",
      "----------------------\n",
      "\n",
      "The sigmoid function ($\\sigma (x)$) is defined as:\n",
      "\n",
      "$$\n",
      "\\sigma(x) = \\frac{1}{1+e^{-x}}\n",
      "$$"
     ]
    },
    {
     "cell_type": "code",
     "collapsed": false,
     "input": [
      "import numpy as np\n",
      "import matplotlib.pyplot as plt\n",
      "import seaborn\n",
      "\n",
      "%matplotlib inline"
     ],
     "language": "python",
     "metadata": {},
     "outputs": [],
     "prompt_number": 17
    },
    {
     "cell_type": "code",
     "collapsed": false,
     "input": [
      "def sigmoid(x):\n",
      "    \n",
      "    return 1.0 / (1.0 + np.exp(-1.0 * x))"
     ],
     "language": "python",
     "metadata": {},
     "outputs": [],
     "prompt_number": 18
    },
    {
     "cell_type": "code",
     "collapsed": false,
     "input": [
      "x = np.linspace(-5, 5, 41)\n",
      "y = sigmoid(x)"
     ],
     "language": "python",
     "metadata": {},
     "outputs": [],
     "prompt_number": 19
    },
    {
     "cell_type": "code",
     "collapsed": false,
     "input": [
      "plt.figure(figsize=(10,6))\n",
      "plt.plot(x,y);\n",
      "plt.axis([-5, 5, 0, 1]);"
     ],
     "language": "python",
     "metadata": {},
     "outputs": [
      {
       "metadata": {},
       "output_type": "display_data",
       "png": "[encoded data removed]",
       "text": [
        "<matplotlib.figure.Figure at 0x107b518d0>"
       ]
      }
     ],
     "prompt_number": 20
    },
    {
     "cell_type": "code",
     "collapsed": false,
     "input": [
      "sigmoid(0)"
     ],
     "language": "python",
     "metadata": {},
     "outputs": [
      {
       "metadata": {},
       "output_type": "pyout",
       "prompt_number": 21,
       "text": [
        "0.5"
       ]
      }
     ],
     "prompt_number": 21
    },
    {
     "cell_type": "code",
     "collapsed": false,
     "input": [
      "sigmoid(-np.inf)"
     ],
     "language": "python",
     "metadata": {},
     "outputs": [
      {
       "metadata": {},
       "output_type": "pyout",
       "prompt_number": 22,
       "text": [
        "0.0"
       ]
      }
     ],
     "prompt_number": 22
    },
    {
     "cell_type": "code",
     "collapsed": false,
     "input": [
      "sigmoid(+np.inf)"
     ],
     "language": "python",
     "metadata": {},
     "outputs": [
      {
       "metadata": {},
       "output_type": "pyout",
       "prompt_number": 23,
       "text": [
        "1.0"
       ]
      }
     ],
     "prompt_number": 23
    },
    {
     "cell_type": "markdown",
     "metadata": {},
     "source": [
      "\n",
      "Note that \n",
      "\n",
      "$$\n",
      "z = \\sum_{i=0}^N w_i \\cdot x_i = {\\bf w}^T \\cdot {\\bf x}\n",
      "$$\n",
      "\n",
      "Therefore, assuming only two variables, to simplify:\n",
      "\n",
      "$$\n",
      "\\sigma(x,y) = \\frac{1}{1+e^{-w_x \\cdot x}\\cdot e^{-w_y \\cdot y} }\n",
      "$$\n",
      "\n",
      "The gradient ascent is\n",
      "\n",
      "$$\n",
      "\n",
      "$$"
     ]
    },
    {
     "cell_type": "markdown",
     "metadata": {},
     "source": [
      "5.2.- Using optimization to find the best regression coefficients\n",
      "-----------------------------------------------------------------\n",
      "\n",
      "###5.2.0.- Maximum Likelihood###\n",
      "\n",
      "We start with the assumption that the classification is not going to be perfect, therefore, there will be an error $\\varepsilon$ in the classification. For the sample $(i)$, this will be expressed as:\n",
      "\n",
      "$$\n",
      "{\\bf y}^{(i)} = \\sigma_{\\bf w}({\\bf x}^{(i)}) + \\varepsilon^{(i)}\n",
      "$$\n",
      "\n",
      "where:\n",
      "\n",
      "$$\n",
      "\\sigma_{\\bf w}({\\bf x}^{(i)}) = \\frac{1}{1+e^{-{\\bf w}^T \\cdot {\\bf x^{(i)}}}}\n",
      "$$\n",
      "\n",
      "If we assume that the classification error $\\varepsilon$ is a random variable with **Gaussian distribution** with zero mean and variance $\\sigma^2$ ($\\mathcal{N}(0,\\sigma^2)$), we can express the probability of having a particular value for this error ($p(\\varepsilon^{(i)})$) as:\n",
      "\n",
      "$$\n",
      "p(\\varepsilon^{(i)}) = \\frac{1}{\\sqrt{2\\pi}\\sigma}\\cdot \\exp \\left ( {-\\frac{(\\varepsilon^{(i)})^2}{2\\sigma^2}} \\right )\n",
      "$$\n",
      "\n",
      "Therefore, we can substitute in this expression the definition of the $\\varepsilon$ and obtain $p(y^{(i)} | {\\bf x}^{(i)}; {\\bf w})$: the conditional probability of obtaining $y^{(i)}$ given a specific set of weights (${\\bf w}$) and input vector (${\\bf x}^{(i)}$):\n",
      "\n",
      "$$\n",
      "p(y^{(i)} | {\\bf x}^{(i)}; {\\bf w}) = \\frac{1}{\\sqrt{2\\pi}\\sigma}\\cdot \\exp \\left ( {-\\frac{(y^{(i)} - \\sigma_{\\bf w}({\\bf x}^{(i)}))^2}{2\\sigma^2}} \\right )\n",
      "$$\n",
      "\n",
      "Considering that we are now working with the training set, we want to find {\\bf w} so that best fits the data. In terms of the expression above, we have to find {\\bf w} that maximizes the probability given the inputs. This is the fundamental principle of **maximum likelihood**: to choose {\\bf w} that makes the data as high probable as possible given a set of inputs. The likelihood function can be expressed as:\n",
      "\n",
      "$$\n",
      "L({\\bf w}) = L({\\bf w};X,Y) = p(Y | X; {\\bf w}) \n",
      "$$\n",
      "\n",
      "we have aggregated all the $m$ $y^{(i)}$ samples into $Y$ and all the $m$ inputs $x^{(i)}$ in $X$. Because of the fact that we work with multiple samples, we now have to assume that the error is **independent**. This allows us to express the conditional probability of all samples as the product of the conditional probability of each sample, like so:\n",
      "\n",
      "$$\n",
      "\\begin{align}\n",
      "L({\\bf w}) & = \\prod_{i=1}^m p(y^{(i)} | {\\bf x}^{(i)}; {\\bf w})  \\\\\n",
      "           & = \\prod_{i=1}^m \\frac{1}{\\sqrt{2\\pi}\\sigma}\\cdot \\exp \\left ( {-\\frac{(y^{(i)} - \\sigma_{\\bf w}({\\bf x}^{(i)}))^2}{2\\sigma^2}} \\right )\n",
      "\\end{align}\n",
      "$$\n",
      "\n",
      "The **Maximum Likelihood Estimator** (MLE) is defined as the operator that estimates the ${\\bf w}$ that maximizes $L({\\bf w})$:\n",
      "\n",
      "$$\n",
      "\\hat {\\bf w} = \\arg\\max_{{\\bf w}} L({\\bf w}) \n",
      "$$\n",
      "\n",
      "From the previous expression of **likelihood** $L({\\bf w})$, we can try to modify it in an effort to simplify it in order to obtain a simpler cost function. Because $L({\\bf w})$ contains products and the exponential function, we can try to use the **logarithm** (at least to convert the products into sums). Note that we can do this because the logarithm is a monotonically increasing function. We can then obtain the **log likelihood**:\n",
      "\n",
      "$$\n",
      "l({\\bf w}) = \\log {L({\\bf w})}\n",
      "$$\n",
      "\n",
      "\n",
      "###5.2.1.- Gradient ascent###\n",
      "\n",
      "In order to maximize the MLE, one type of optimization algorithm is the gradient descent, in which we iterate the candidates following a specific search direction: the direction of the greatest increase, defined by the **gradient**:\n",
      "\n",
      "$$\n",
      "\\nabla f(x,y) = \\left (  \\frac{\\partial f(x,y) }{\\partial x} \\, , \\,  \\frac{\\partial f(x,y) }{\\partial y} \\right )\n",
      "$$\n",
      "\n",
      "Candidates are found based on the current candidate plus the gradient, multiplied by a **step** factor ($\\alpha$):\n",
      "\n",
      "$$\n",
      "{\\bf w } = {\\bf w } + \\alpha \\cdot  \\nabla_{\\bf w}f(w)\n",
      "$$\n",
      "\n",
      "where f is our **cost function**, or the difference between the predicted value and the actual value\n",
      "\n",
      "###5.2.2.- Training: use gradient ascent to find the best parameters###\n",
      "\n",
      "We have to find first a cost function for the expression of likelihood found before. To do this we will first construct the expression of our conditional probability for a single set of samples. Given the fact that we are using the sigmoid function to predict the class, we can assume that the probability of the sigmoid function to yield $1$ for a given input and weights can be expressed as the sigmoid function directly, like so:\n",
      "\n",
      "$$\n",
      "p(y=1\\, |\\, {\\bf x }; {\\bf w }) = \\sigma_{\\bf w}({\\bf x}) \n",
      "$$\n",
      "\n",
      "On the other hand, the probability of having the opposite classification state ($y=0$) for a given input and set of weights can be expressed as the complementary:\n",
      "\n",
      "\n",
      "$$\n",
      "p(y=0\\, |\\, {\\bf x }; {\\bf w }) = 1 - \\sigma_{\\bf w}({\\bf x}) \n",
      "$$\n",
      "\n",
      "Since $y$ represent a binary state and can only take two values ($0$ and $1$), we can join the previous expressions and obtain a general expression for the probability of having $y$ given a set of inputs and weights:\n",
      "\n",
      "$$\n",
      "p(y\\, |\\, {\\bf x }; {\\bf w }) = \\left( \\sigma_{\\bf w}({\\bf x}) \\right )^y \\cdot \\left ( 1 - \\sigma_{\\bf w}({\\bf x})\\right ) ^{1-y}\n",
      "$$\n",
      "\n",
      "Note that when $y=1$ we have the first term and when $y=0$ we will have the second term. We use this expression to obtain the log likelihood:\n",
      "\n",
      "$$\n",
      "l({\\bf w }) = \\log L({\\bf w })= \\log p(Y\\, |\\, X; {\\bf w }).\n",
      "$$\n",
      "\n",
      "After some algebraic manipulation (see page 18 of [\\[Ng 2014\\]](http://cs229.stanford.edu/notes/cs229-notes1.pdf) for details) , we can obtain this expression for the log likelihood:\n",
      "\n",
      "$$\n",
      "l({\\bf w}) = \\sum_{i=1}^m  y^{(i)}        \\log { \\sigma_{\\bf w}({\\bf x}^{(i)})}  +\n",
      "                          ( 1 - y^{(i)} ) \\log \\left ( 1 - \\sigma_{\\bf w}({\\bf x}^{(i)}) \\right)\n",
      "$$\n",
      "\n",
      "If we compute the gradient of this expression relative to each component of ${\\bf w}$ and use the following property for the sigmoid function:\n",
      "\n",
      "$$\n",
      "\\frac{d}{dz}\\sigma(z) = \\sigma(z) \\cdot ( 1 - \\sigma(z) )\n",
      "$$\n",
      "\n",
      "We can obtain the expression of the gradient ascent for each component of the weights:\n",
      "\n",
      "$$\n",
      "w_j = w_j + \\alpha \\cdot \\left( y^{(i)} - \\sigma_{\\bf w}({\\bf x}^{(i)}) \\right ) \\cdot x_j^{(i)}\n",
      "$$\n",
      "\n",
      "References:\n",
      "\n",
      "- [Ng 2014] Ng, Andrew. \"CS229 Machine Learning Lecture notes\", Stanford University, available: http://cs229.stanford.edu/notes/cs229-notes1.pdf\n"
     ]
    },
    {
     "cell_type": "code",
     "collapsed": false,
     "input": [
      "def load_data_set(filename=\"/Users/miquel/Downloads/machinelearninginaction/Ch05/testSet.txt\"):\n",
      "    \n",
      "    data_matrix = []\n",
      "    label_matrix = []\n",
      "    \n",
      "    fh = open(filename, \"r\")\n",
      "    for line in fh.readlines():\n",
      "        fields = [ float(f) for f in line.strip().split()]\n",
      "        data_matrix.append( [1.0, fields[0], fields[1] ] )\n",
      "        label_matrix.append( fields [2])\n",
      "        \n",
      "    return np.array(data_matrix), np.array(label_matrix)"
     ],
     "language": "python",
     "metadata": {},
     "outputs": [],
     "prompt_number": 24
    },
    {
     "cell_type": "code",
     "collapsed": false,
     "input": [
      "m, l = load_data_set()"
     ],
     "language": "python",
     "metadata": {},
     "outputs": [],
     "prompt_number": 25
    },
    {
     "cell_type": "code",
     "collapsed": false,
     "input": [
      "data_class1 = m[ l==1 ][:,1:]\n",
      "data_class0 = m[ l==0 ][:,1:]"
     ],
     "language": "python",
     "metadata": {},
     "outputs": [],
     "prompt_number": 26
    },
    {
     "cell_type": "code",
     "collapsed": false,
     "input": [
      "# Plot the data set\n",
      "plt.figure(figsize=(10,6))\n",
      "plt.plot(data_class1[:,0], data_class1[:,1], 'or', label=\"class 1\");\n",
      "plt.plot(data_class0[:,0], data_class0[:,1], 'ob', label=\"class 0\");\n",
      "plt.axis([-4,+4,-5,20]);\n",
      "plt.legend(loc=2);"
     ],
     "language": "python",
     "metadata": {},
     "outputs": [
      {
       "metadata": {},
       "output_type": "display_data",
       "png": "[encoded data removed]",
       "text": [
        "<matplotlib.figure.Figure at 0x107ca0f10>"
       ]
      }
     ],
     "prompt_number": 27
    },
    {
     "cell_type": "code",
     "collapsed": false,
     "input": [
      "def gradient_ascent(data, labels, alpha=0.001, max_cycles=500):\n",
      "    \n",
      "    # Get the shape, m is the number of rows and n is the number of columns\n",
      "    m,n = np.shape(data)\n",
      "    \n",
      "    # The algorithm assumes all the weights are the same\n",
      "    weights = np.ones((n, 1))\n",
      "    \n",
      "    for k in range(max_cycles):\n",
      "        h = sigmoid(np.dot(data, weights).flatten())\n",
      "        error = np.reshape(labels - h, (len(h), 1))\n",
      "        \n",
      "        # Update the weights based on the expression derived at the end of section 5.2.2\n",
      "        weights += alpha * np.dot(np.transpose(data), error)\n",
      "\n",
      "    return weights"
     ],
     "language": "python",
     "metadata": {},
     "outputs": [],
     "prompt_number": 28
    },
    {
     "cell_type": "code",
     "collapsed": false,
     "input": [
      "gradient_ascent(m, l)"
     ],
     "language": "python",
     "metadata": {},
     "outputs": [
      {
       "metadata": {},
       "output_type": "pyout",
       "prompt_number": 29,
       "text": [
        "array([[ 4.12414349],\n",
        "       [ 0.48007329],\n",
        "       [-0.6168482 ]])"
       ]
      }
     ],
     "prompt_number": 29
    }
   ],
   "metadata": {}
  }
 ]
}